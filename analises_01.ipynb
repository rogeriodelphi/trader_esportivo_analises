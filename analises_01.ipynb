{
  "nbformat": 4,
  "nbformat_minor": 0,
  "metadata": {
    "colab": {
      "provenance": [],
      "authorship_tag": "ABX9TyPaPCFoLkN/XBtLOjXsydzl",
      "include_colab_link": true
    },
    "kernelspec": {
      "name": "python3",
      "display_name": "Python 3"
    },
    "language_info": {
      "name": "python"
    }
  },
  "cells": [
    {
      "cell_type": "markdown",
      "metadata": {
        "id": "view-in-github",
        "colab_type": "text"
      },
      "source": [
        "<a href=\"https://colab.research.google.com/github/rogeriodelphi/trader_esportivo_analises/blob/main/analises_01.ipynb\" target=\"_parent\"><img src=\"https://colab.research.google.com/assets/colab-badge.svg\" alt=\"Open In Colab\"/></a>"
      ]
    },
    {
      "cell_type": "code",
      "execution_count": 1,
      "metadata": {
        "id": "Xv8Oxtft5Cy5"
      },
      "outputs": [],
      "source": [
        "# Importando as Bibliotecas\n",
        "import pandas as pd\n",
        "import numpy as np\n",
        "from google.colab import data_table\n",
        "data_table.enable_dataframe_formatter()"
      ]
    },
    {
      "cell_type": "code",
      "source": [
        "df1 = pd.read_csv('https://www.football-data.co.uk/mmz4281/2021/D1.csv')\n",
        "df2 = pd.read_csv('https://www.football-data.co.uk/mmz4281/2122/D1.csv')\n",
        "df3 = pd.read_csv('https://www.football-data.co.uk/mmz4281/2223/D1.csv')\n",
        "df = [df1, df2, df3]\n",
        "df = pd.concat(df)"
      ],
      "metadata": {
        "id": "ALe9KOW15ylQ"
      },
      "execution_count": 2,
      "outputs": []
    },
    {
      "cell_type": "markdown",
      "source": [],
      "metadata": {
        "id": "6PFV7ivo7-lE"
      }
    },
    {
      "cell_type": "code",
      "source": [
        "# Selecionando as Colunas que serão utilizadas\n",
        "df = df[['Date','HomeTeam','AwayTeam','B365H','B365D','B365A','FTHG','FTAG','FTR']]\n",
        "\n",
        "# Renomenando as Colunas\n",
        "df.columns = ['Date','Home','Away','OddsHome','OddsDraw','OddsAway','HomeGoals','AwayGoals','Result']"
      ],
      "metadata": {
        "id": "oASqp_yD7Gjs"
      },
      "execution_count": 3,
      "outputs": []
    }
  ]
}