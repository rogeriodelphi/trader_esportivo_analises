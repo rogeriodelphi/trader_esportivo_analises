{
  "nbformat": 4,
  "nbformat_minor": 0,
  "metadata": {
    "colab": {
      "provenance": [],
      "private_outputs": true,
      "include_colab_link": true
    },
    "kernelspec": {
      "name": "python3",
      "display_name": "Python 3"
    },
    "language_info": {
      "name": "python"
    }
  },
  "cells": [
    {
      "cell_type": "markdown",
      "metadata": {
        "id": "view-in-github",
        "colab_type": "text"
      },
      "source": [
        "<a href=\"https://colab.research.google.com/github/rogeriodelphi/trader_esportivo_analises/blob/main/FutPythonTrader_An%C3%A1lises_04.ipynb\" target=\"_parent\"><img src=\"https://colab.research.google.com/assets/colab-badge.svg\" alt=\"Open In Colab\"/></a>"
      ]
    },
    {
      "cell_type": "code",
      "execution_count": null,
      "metadata": {
        "id": "i_kddJwIQcKL"
      },
      "outputs": [],
      "source": [
        "# Importando as Bibliotecas\n",
        "import pandas as pd\n",
        "import numpy as np\n",
        "from google.colab import data_table\n",
        "data_table.enable_dataframe_formatter()"
      ]
    },
    {
      "cell_type": "code",
      "source": [
        "# Importando a Base de Dados\n",
        "# df = pd.read_excel('Base_de_Dados_Full.xlsx')\n",
        "df = pd.read_excel('https://github.com/rogeriodelphi/trader_esportivo_analises/blob/main/Base_de_Dados_Full_v2.xlsx?raw=true')"
      ],
      "metadata": {
        "id": "q1Br0HBKQ6YB"
      },
      "execution_count": null,
      "outputs": []
    },
    {
      "cell_type": "code",
      "source": [
        "# Renomeando as Colunas e Ordenando por Data os Jogos\n",
        "df = df[['League','Date','Home','Away','FT_Odds_H','FT_Odds_D','FT_Odds_A','FT_Goals_H','FT_Goals_A']]\n",
        "df.columns = ['League','Date','Home','Away','Odds_H','Odds_D','Odds_A','Goals_H','Goals_A']\n",
        "df.loc[(df['Goals_H']  > df['Goals_A']), \"Result\"] = \"H\"\n",
        "df.loc[(df['Goals_H'] == df['Goals_A']), \"Result\"] = \"D\"\n",
        "df.loc[(df['Goals_H'] <  df['Goals_A']), \"Result\"] = \"A\"\n",
        "\n",
        "df['Date'] = df['Date'].dt.strftime('%Y/%m/%d')\n",
        "df = df.sort_values('Date')"
      ],
      "metadata": {
        "id": "--u0P4KDRBwV"
      },
      "execution_count": null,
      "outputs": []
    },
    {
      "cell_type": "code",
      "source": [
        "# Ajustando o Índice\n",
        "df.reset_index(inplace=True, drop=True)\n",
        "df.index = df.index.set_names(['Nº do Jogo'])\n",
        "df = df.rename(index=lambda x: x + 1)"
      ],
      "metadata": {
        "id": "iOzJC-qPRKDA"
      },
      "execution_count": null,
      "outputs": []
    },
    {
      "cell_type": "code",
      "source": [
        "# Visualizando o DataFrame\n",
        "df"
      ],
      "metadata": {
        "id": "hbDckt9s1jmb"
      },
      "execution_count": null,
      "outputs": []
    },
    {
      "cell_type": "code",
      "source": [
        "# Criando a Coluna de Pontos Obtidos\n",
        "def Pontos_H (Result):\n",
        "    if Result == 'H':\n",
        "        Pontos = 3\n",
        "    elif Result == 'D':\n",
        "        Pontos = 1\n",
        "    else:\n",
        "        Pontos = 0\n",
        "    return Pontos\n",
        "\n",
        "def Pontos_A (Result):\n",
        "    if Result == 'A':\n",
        "        Pontos = 3\n",
        "    elif Result == 'D':\n",
        "        Pontos = 1\n",
        "    else:\n",
        "        Pontos = 0\n",
        "    return Pontos\n",
        "\n",
        "df['Pontos_H'] = df.apply(lambda row: Pontos_H(row['Result']), axis=1)\n",
        "df['Pontos_A'] = df.apply(lambda row: Pontos_A(row['Result']), axis=1)"
      ],
      "metadata": {
        "id": "TdxhFaWJRCXO"
      },
      "execution_count": null,
      "outputs": []
    },
    {
      "cell_type": "code",
      "source": [
        "# Visualizando o DataFrame\n",
        "df"
      ],
      "metadata": {
        "id": "dHlJdHGvCbA_"
      },
      "execution_count": null,
      "outputs": []
    },
    {
      "cell_type": "code",
      "source": [
        "df['Total_Goals'] = df.apply(lambda row: (row['Goals_H'] + row['Goals_A']), axis=1)"
      ],
      "metadata": {
        "id": "BlsWkSI5E3ly"
      },
      "execution_count": null,
      "outputs": []
    },
    {
      "cell_type": "code",
      "source": [
        "df['Over05'] = df.apply(lambda row: 1 if (row['Total_Goals'] >= 1) else 0, axis=1)\n",
        "df['Over15'] = df.apply(lambda row: 1 if (row['Total_Goals'] > 1) else 0, axis=1)\n",
        "df['Over25'] = df.apply(lambda row: 1 if (row['Total_Goals'] > 2) else 0, axis=1)\n",
        "df['BTTS'] = df.apply(lambda row: 1 if (row['Goals_H'] > 0 and row['Goals_A'] > 0) else 0, axis=1)"
      ],
      "metadata": {
        "id": "t6LwbPQw_HAy"
      },
      "execution_count": null,
      "outputs": []
    },
    {
      "cell_type": "code",
      "source": [
        "df.head()"
      ],
      "metadata": {
        "id": "rPtEpUEfRWto"
      },
      "execution_count": null,
      "outputs": []
    },
    {
      "cell_type": "code",
      "source": [
        "media_over05_H = df[['Home','Over05']].groupby('Home').mean() * 100\n",
        "media_over15_H = df[['Home','Over15']].groupby('Home').mean() * 100\n",
        "media_over25_H = df[['Home','Over25']].groupby('Home').mean() * 100\n",
        "media_BTTS_H = df[['Home','BTTS']].groupby('Home').mean() * 100\n",
        "\n",
        "media_over05_A = df[['Away','Over05']].groupby('Away').mean() * 100\n",
        "media_over15_A = df[['Away','Over15']].groupby('Away').mean() * 100\n",
        "media_over25_A = df[['Away','Over25']].groupby('Away').mean() * 100\n",
        "media_BTTS_A = df[['Away','BTTS']].groupby('Away').mean() * 100"
      ],
      "metadata": {
        "id": "w7JRLK3TEPi6"
      },
      "execution_count": null,
      "outputs": []
    },
    {
      "cell_type": "code",
      "source": [
        "df_medias_H=pd.concat([media_over05_H,media_over15_H,media_over25_H,media_BTTS_H],axis=1)\n",
        "\n",
        "df_medias_A=pd.concat([media_over05_A,media_over15_A,media_over25_A,media_BTTS_A],axis=1)"
      ],
      "metadata": {
        "id": "rTjBtpbfEbze"
      },
      "execution_count": null,
      "outputs": []
    },
    {
      "cell_type": "code",
      "source": [
        "df_medias_H.columns = ['Média_Over05_H','Média_Over15_H','Média_Over25_H','Média_BTTS_H']\n",
        "df_medias_H.to_excel(\"medias_H.xlsx\")\n",
        "df_medias_A.columns = ['Média_Over05_A','Média_Over15_A','Média_Over25_A','Média_BTTS_A']\n",
        "df_medias_A.to_excel(\"medias_A.xlsx\")"
      ],
      "metadata": {
        "id": "YmWU5ugxFRHT"
      },
      "execution_count": null,
      "outputs": []
    },
    {
      "cell_type": "code",
      "source": [
        "df_medias_H"
      ],
      "metadata": {
        "id": "0elnV28-GDkl"
      },
      "execution_count": null,
      "outputs": []
    },
    {
      "cell_type": "code",
      "source": [
        "df_medias_A"
      ],
      "metadata": {
        "id": "xh09YmizHUtG"
      },
      "execution_count": null,
      "outputs": []
    },
    {
      "cell_type": "code",
      "source": [
        "# Analisando dois times específicos\n",
        "home = input(\"Digite o nome do Mandante: \")\n",
        "away = input(\"Digite o nome do Visitante: \")\n",
        "\n",
        "flt1 = df_medias_H[df_medias_H.index == home];\n",
        "flt2 = df_medias_A[df_medias_A.index == away];\n",
        "\n",
        "display(flt1, flt2)"
      ],
      "metadata": {
        "id": "TmXSIyMGGE5U"
      },
      "execution_count": null,
      "outputs": []
    },
    {
      "cell_type": "code",
      "source": [
        "# Calculando as Médias de Gols, Desvio Padrão e Coeficiente de Variação\n",
        "media_gols_home = round(df[['Home', 'Goals_H']].groupby('Home').mean(), 2)\n",
        "media_gols_away = round(df[['Away','Goals_A']].groupby('Away').mean(), 2)\n",
        "\n",
        "desvio_padrao_gols_home = round(df[['Home', 'Goals_H']].groupby('Home').std(), 2)\n",
        "desvio_padrao_gols_away = round(df[['Away', 'Goals_A']].groupby('Away').std(), 2)\n",
        "\n",
        "cv_gols_home = round(desvio_padrao_gols_home / media_gols_home, 2)\n",
        "cv_gols_away = round(desvio_padrao_gols_away / media_gols_away, 2)\n",
        "\n",
        "df_goals=pd.concat([media_gols_home,media_gols_away,desvio_padrao_gols_home,desvio_padrao_gols_away,cv_gols_home,cv_gols_away],axis=1)"
      ],
      "metadata": {
        "id": "_xl21GjxkQQk"
      },
      "execution_count": null,
      "outputs": []
    },
    {
      "cell_type": "code",
      "source": [
        "# Calculando as Médias de Pontos, Desvio Padrão e Coeficiente de Variação\n",
        "media_pontos_home = round(df[['Home','Pontos_H']].groupby('Home').mean(), 2)\n",
        "media_pontos_away = round(df[['Away','Pontos_A']].groupby('Away').mean(), 2)\n",
        "\n",
        "desvio_padrao_pontos_home = round(df[['Home','Pontos_H']].groupby('Home').std(), 2)\n",
        "desvio_padrao_pontos_away = round(df[['Away','Pontos_A']].groupby('Away').std(), 2)\n",
        "\n",
        "cv_pontos_home = round(desvio_padrao_pontos_home / media_pontos_home, 2)\n",
        "cv_pontos_away = round(desvio_padrao_pontos_away / media_pontos_away, 2)\n",
        "\n",
        "df_pontos=pd.concat([media_pontos_home,media_pontos_away,desvio_padrao_pontos_home,desvio_padrao_pontos_away,cv_pontos_home,cv_pontos_away],axis=1)"
      ],
      "metadata": {
        "id": "dGb8weVv0QWt"
      },
      "execution_count": null,
      "outputs": []
    },
    {
      "cell_type": "code",
      "source": [
        "df_analise = pd.concat([df_goals,df_pontos],axis=1)\n",
        "df_analise.columns = ['Média_Gols_Home','Média_Gols_Away','DP_Gols_Home','DP_Gols_Away','CV_Gols_Home','CV_Gols_Away','Média_Pontos_Home','Média_Pontos_Away','DP_Pontos_Home','DP_Pontos_Away','CV_Pontos_Home','CV_Pontos_Away']\n",
        "df_analise = df_analise[['Média_Gols_Home','Média_Gols_Away','CV_Gols_Home','CV_Gols_Away','Média_Pontos_Home','Média_Pontos_Away','CV_Pontos_Home','CV_Pontos_Away']]\n",
        "df_analise = df_analise.dropna()\n",
        "df_analise.to_excel(\"analise.xlsx\")"
      ],
      "metadata": {
        "id": "v0UJ4ObX5VDe"
      },
      "execution_count": null,
      "outputs": []
    },
    {
      "cell_type": "code",
      "source": [
        "# Exibindo o DataFrame\n",
        "df_analise"
      ],
      "metadata": {
        "id": "wCk8Jp5_EVpx"
      },
      "execution_count": null,
      "outputs": []
    },
    {
      "cell_type": "code",
      "source": [
        "# Analisando dois times específicos\n",
        "home = input(\"Digite o nome do Mandante: \")\n",
        "away = input(\"Digite o nome do Visitante: \")\n",
        "\n",
        "flt1 = df_analise[df_analise.index == home];\n",
        "flt2 = df_analise[df_analise.index == away];\n",
        "\n",
        "display(flt1, flt2)"
      ],
      "metadata": {
        "id": "RSwYp7m_B_ZX"
      },
      "execution_count": null,
      "outputs": []
    }
  ]
}