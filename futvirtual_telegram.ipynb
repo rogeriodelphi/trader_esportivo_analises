{
  "nbformat": 4,
  "nbformat_minor": 0,
  "metadata": {
    "colab": {
      "provenance": [],
      "authorship_tag": "ABX9TyMvKv8dqxdCIlJ+T6ZcICVu",
      "include_colab_link": true
    },
    "kernelspec": {
      "name": "python3",
      "display_name": "Python 3"
    },
    "language_info": {
      "name": "python"
    }
  },
  "cells": [
    {
      "cell_type": "markdown",
      "metadata": {
        "id": "view-in-github",
        "colab_type": "text"
      },
      "source": [
        "<a href=\"https://colab.research.google.com/github/rogeriodelphi/trader_esportivo_analises/blob/main/futvirtual_telegram.ipynb\" target=\"_parent\"><img src=\"https://colab.research.google.com/assets/colab-badge.svg\" alt=\"Open In Colab\"/></a>"
      ]
    },
    {
      "cell_type": "code",
      "execution_count": 2,
      "metadata": {
        "id": "L0RAw78pyCgO",
        "colab": {
          "base_uri": "https://localhost:8080/"
        },
        "outputId": "def1a0b5-da6e-49b8-b5eb-4b0f8c4a20f9"
      },
      "outputs": [
        {
          "output_type": "execute_result",
          "data": {
            "text/plain": [
              "{'Total GREEN': 73,\n",
              " 'Total RED': 6,\n",
              " 'Total Geral de Jogos': 79,\n",
              " 'Jogos por Taça': Counter({'EURO': 17,\n",
              "          'COPA': 25,\n",
              "          'PREMIER': 15,\n",
              "          'SUPER': 22}),\n",
              " 'GREEN por jogo': {'GREEN NO 1º JOGO': 37,\n",
              "  'GREEN NO 2º JOGO': 16,\n",
              "  'GREEN NO 3º JOGO': 16,\n",
              "  'GREEN NO 4º JOGO': 4},\n",
              " '3 placares mais repetidos': [('1-1', 19), ('1-2', 18), ('2-1', 11)],\n",
              " 'Odd mais repetida no GREEN NO 1º JOGO': [('2.00', 6)],\n",
              " 'Frequência do GREEN NO 1º JOGO': 37,\n",
              " 'Maior sequência sem GREEN NO 1º JOGO': 269,\n",
              " 'Jogos que deram RED (ordenados)': ['COPA', 'COPA', 'EURO', 'SUPER', 'SUPER']}"
            ]
          },
          "metadata": {},
          "execution_count": 2
        }
      ],
      "source": [
        "import re\n",
        "from collections import Counter\n",
        "\n",
        "# Carregando o conteúdo do arquivo\n",
        "with open('/mnt/data/jogos.txt', 'r', encoding='utf-8') as file:\n",
        "    content = file.read()\n",
        "\n",
        "# Contagens básicas\n",
        "total_green = content.count('GREEN')\n",
        "total_red = content.count('RED: ✖✖✖✖✖✖✖✖✖✖')\n",
        "total_games = total_green + total_red\n",
        "\n",
        "# Jogos por taça\n",
        "tacas = re.findall(r'\\[Taça:(.*?)\\n', content)\n",
        "games_by_taca = Counter(tacas)\n",
        "\n",
        "# Quantidade de GREEN por jogo específico\n",
        "green_matches = {\n",
        "    \"GREEN NO 1º JOGO\": content.count('GREEN: 1º JOGO'),\n",
        "    \"GREEN NO 2º JOGO\": content.count('GREEN: 2º JOGO'),\n",
        "    \"GREEN NO 3º JOGO\": content.count('GREEN: 3º JOGO'),\n",
        "    \"GREEN NO 4º JOGO\": content.count('GREEN: 4º JOGO')\n",
        "}\n",
        "\n",
        "# Placar mais repetido\n",
        "placares = re.findall(r'Placar:(.*?)\\n', content)\n",
        "top_placares = Counter(placares).most_common(3)\n",
        "\n",
        "# Odds mais frequentes no GREEN NO 1º JOGO\n",
        "odds_green_1 = re.findall(r'Odd: @(.*?) - Placar:.*?\\nGREEN: 1º JOGO', content)\n",
        "top_odds_green_1 = Counter(odds_green_1).most_common(1)\n",
        "\n",
        "# Frequência e sequência de GREEN NO 1º JOGO\n",
        "green_1_jogo_positions = [m.start() for m in re.finditer('GREEN: 1º JOGO', content)]\n",
        "green_1_frequencies = len(green_1_jogo_positions)\n",
        "green_1_largest_gap = max([green_1_jogo_positions[i + 1] - green_1_jogo_positions[i]\n",
        "                           for i in range(len(green_1_jogo_positions) - 1)]) if len(green_1_jogo_positions) > 1 else 0\n",
        "\n",
        "# Jogos que deram RED em ordem de horário\n",
        "red_matches = re.findall(r'\\[Taça:(.*?)\\n.*?RED: ✖✖✖✖✖✖✖✖✖✖\\]', content)\n",
        "red_games_sorted = sorted(red_matches)\n",
        "\n",
        "# Resultados\n",
        "resultados = {\n",
        "    \"Total GREEN\": total_green,\n",
        "    \"Total RED\": total_red,\n",
        "    \"Total Geral de Jogos\": total_games,\n",
        "    \"Jogos por Taça\": games_by_taca,\n",
        "    \"GREEN por jogo\": green_matches,\n",
        "    \"3 placares mais repetidos\": top_placares,\n",
        "    \"Odd mais repetida no GREEN NO 1º JOGO\": top_odds_green_1,\n",
        "    \"Frequência do GREEN NO 1º JOGO\": green_1_frequencies,\n",
        "    \"Maior sequência sem GREEN NO 1º JOGO\": green_1_largest_gap,\n",
        "    \"Jogos que deram RED (ordenados)\": red_games_sorted\n",
        "}\n",
        "\n",
        "resultados\n"
      ]
    }
  ]
}